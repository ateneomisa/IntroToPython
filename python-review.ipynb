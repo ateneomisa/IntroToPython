{
 "cells": [
  {
   "cell_type": "markdown",
   "metadata": {},
   "source": [
    "<b>Problem #1: Grading Students</b>"
   ]
  },
  {
   "cell_type": "code",
   "execution_count": 2,
   "metadata": {},
   "outputs": [
    {
     "name": "stdout",
     "output_type": "stream",
     "text": [
      "19\n",
      "84\n",
      "94\n",
      "21\n",
      "0\n",
      "18\n",
      "100\n",
      "18\n",
      "62\n",
      "30\n",
      "61\n",
      "53\n",
      "0\n",
      "43\n",
      "2\n",
      "29\n",
      "53\n",
      "61\n",
      "40\n",
      "14\n",
      "[85, 95, 21, 0, 18, 100, 18, 62, 30, 61, 55, 0, 45, 2, 29, 55, 61, 40, 14]\n"
     ]
    }
   ],
   "source": [
    "inp = int(input())\n",
    "output = []\n",
    "while inp != 0:\n",
    "    num = int(input())\n",
    "    if num <= 37:\n",
    "        output.append(num)\n",
    "    else:\n",
    "        base = 5\n",
    "        nex = int(base * round(float(num)/base))\n",
    "        if nex < num:\n",
    "            nex += 5\n",
    "        if abs(num - nex) < 3 :\n",
    "            output.append(nex)\n",
    "        else:\n",
    "            output.append(num)\n",
    "    inp -= 1\n",
    "print(output)"
   ]
  },
  {
   "cell_type": "markdown",
   "metadata": {},
   "source": [
    "<b>Problem #2: Time</b>"
   ]
  },
  {
   "cell_type": "code",
   "execution_count": 69,
   "metadata": {},
   "outputs": [],
   "source": [
    "#takes in an integer and outputs string word\n",
    "def convert(H):\n",
    "    smort = [\"one\", \"two\", \"three\", \"four\", \"five\", \"six\", \"seven\", \"eight\", \"nine\", \"ten\", \"eleven\", \"twelve\", \"thirteen\", \"fourteen\", \"fifteen\", \"sixteen\", \"seventeen\", \"eighteen\", \"nineteen\", \"twenty\", \"twenty one\", \"twenty two\", \"twenty three\", \"twenty four\", \"twenty five\", \"twenty six\", \"twenty seven\", \"twenty eight\", \"twenty nine\"]\n",
    "    for n, i in enumerate(smort):\n",
    "        if n+1 == H:\n",
    "            return i"
   ]
  },
  {
   "cell_type": "code",
   "execution_count": 70,
   "metadata": {},
   "outputs": [
    {
     "name": "stdout",
     "output_type": "stream",
     "text": [
      "6\n",
      "35\n",
      "twenty five minutes to seven\n"
     ]
    }
   ],
   "source": [
    "H = int(input())\n",
    "M = int(input())\n",
    "new = \"\"\n",
    "save = convert(H) #save string form of hour\n",
    "save2 = convert(H+1)\n",
    "if M == 0:\n",
    "    new += (save + \" o' clock\")\n",
    "elif M == 15:\n",
    "    new += (\"quarter past \" + save)\n",
    "elif M <= 29:\n",
    "    new += (convert(M) + \" minutes past \" + save)\n",
    "elif M == 30:\n",
    "    new += (\"half past \" + save)\n",
    "elif M == 45:\n",
    "    new += (\"quarter to \" + save2)\n",
    "elif M > 30:\n",
    "    hi = convert(60-M)\n",
    "    new += (convert(60-M) + \" minutes to \" + save2)\n",
    "print(new)"
   ]
  },
  {
   "cell_type": "markdown",
   "metadata": {},
   "source": [
    "<b>Problem #3: ginortS</b>"
   ]
  },
  {
   "cell_type": "code",
   "execution_count": 4,
   "metadata": {},
   "outputs": [],
   "source": [
    "#sorts list of letters alphabetically\n",
    "def alphabet(n):\n",
    "    alpha = sorted(n)\n",
    "    n = \"\"\n",
    "    for i in alpha:\n",
    "        n += i\n",
    "    return n"
   ]
  },
  {
   "cell_type": "code",
   "execution_count": 5,
   "metadata": {},
   "outputs": [
    {
     "name": "stdout",
     "output_type": "stream",
     "text": [
      "1qaz2wsx3edc4rfv5tgb6yhn7ujm8ik9ol0pQWERTYUIOPASDFGHJKLZXCVBNM\n",
      "abcdefghijklmnopqrstuvwxyzABCDEFGHIJKLMNOPQRSTUVWXYZ1357902468\n"
     ]
    }
   ],
   "source": [
    "gin = input()\n",
    "lower = 'abcdefghijklmnopqrstuvwxyz'\n",
    "upper = 'ABCDEFGHIJKLMNOPQRSTUVWXYZ'\n",
    "tria = \"\"\n",
    "temp = \"\"\n",
    "\n",
    "#gets all lowercase letters from string\n",
    "for i in gin:\n",
    "    if i in lower:\n",
    "        tria += i\n",
    "        gin = gin.replace(i, \"\")\n",
    "tria = alphabet(tria)\n",
    "\n",
    "#gets all uppercase letters from string\n",
    "for i in gin:\n",
    "    if i in upper:\n",
    "        temp += i\n",
    "        gin = gin.replace(i, \"\")      \n",
    "temp = alphabet(temp)\n",
    "\n",
    "#appends to output string\n",
    "tria += temp\n",
    "\n",
    "\n",
    "#separates odd and even numbers\n",
    "odd = []\n",
    "even = []\n",
    "for i in gin:\n",
    "    if int(i) % 2 != 0:\n",
    "        odd.append(i)\n",
    "    else:\n",
    "        even.append(i)\n",
    "odd.sort()\n",
    "even.sort()\n",
    "\n",
    "#converts numbers to string\n",
    "odd = ''.join(odd)\n",
    "even = ''.join(even)\n",
    "\n",
    "tria += odd + even\n",
    "\n",
    "print(tria) "
   ]
  },
  {
   "cell_type": "code",
   "execution_count": null,
   "metadata": {},
   "outputs": [],
   "source": []
  }
 ],
 "metadata": {
  "kernelspec": {
   "display_name": "Python 3",
   "language": "python",
   "name": "python3"
  },
  "language_info": {
   "codemirror_mode": {
    "name": "ipython",
    "version": 3
   },
   "file_extension": ".py",
   "mimetype": "text/x-python",
   "name": "python",
   "nbconvert_exporter": "python",
   "pygments_lexer": "ipython3",
   "version": "3.6.4"
  }
 },
 "nbformat": 4,
 "nbformat_minor": 2
}
